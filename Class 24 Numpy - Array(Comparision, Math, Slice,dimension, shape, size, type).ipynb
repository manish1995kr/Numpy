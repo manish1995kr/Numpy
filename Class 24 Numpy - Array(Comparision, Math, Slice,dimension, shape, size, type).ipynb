{
 "cells": [
  {
   "cell_type": "markdown",
   "id": "efc552f3",
   "metadata": {},
   "source": [
    "numpy : Numerical python"
   ]
  },
  {
   "cell_type": "code",
   "execution_count": 1,
   "id": "d0ddf92d",
   "metadata": {},
   "outputs": [
    {
     "ename": "TypeError",
     "evalue": "unsupported operand type(s) for /: 'list' and 'list'",
     "output_type": "error",
     "traceback": [
      "\u001b[1;31m---------------------------------------------------------------------------\u001b[0m",
      "\u001b[1;31mTypeError\u001b[0m                                 Traceback (most recent call last)",
      "\u001b[1;32m<ipython-input-1-a8ac164cf117>\u001b[0m in \u001b[0;36m<module>\u001b[1;34m\u001b[0m\n\u001b[0;32m      1\u001b[0m \u001b[0mdistance\u001b[0m \u001b[1;33m=\u001b[0m \u001b[1;33m[\u001b[0m\u001b[1;36m12\u001b[0m\u001b[1;33m,\u001b[0m\u001b[1;36m13\u001b[0m\u001b[1;33m,\u001b[0m\u001b[1;36m14\u001b[0m\u001b[1;33m,\u001b[0m\u001b[1;36m15\u001b[0m\u001b[1;33m]\u001b[0m\u001b[1;33m\u001b[0m\u001b[1;33m\u001b[0m\u001b[0m\n\u001b[0;32m      2\u001b[0m \u001b[0mtime\u001b[0m \u001b[1;33m=\u001b[0m \u001b[1;33m[\u001b[0m\u001b[1;36m1\u001b[0m\u001b[1;33m,\u001b[0m\u001b[1;36m2\u001b[0m\u001b[1;33m,\u001b[0m\u001b[1;36m3\u001b[0m\u001b[1;33m,\u001b[0m\u001b[1;36m4\u001b[0m\u001b[1;33m]\u001b[0m\u001b[1;33m\u001b[0m\u001b[1;33m\u001b[0m\u001b[0m\n\u001b[1;32m----> 3\u001b[1;33m \u001b[0mspeed\u001b[0m \u001b[1;33m=\u001b[0m \u001b[0mdistance\u001b[0m\u001b[1;33m/\u001b[0m\u001b[0mtime\u001b[0m\u001b[1;33m\u001b[0m\u001b[1;33m\u001b[0m\u001b[0m\n\u001b[0m",
      "\u001b[1;31mTypeError\u001b[0m: unsupported operand type(s) for /: 'list' and 'list'"
     ]
    }
   ],
   "source": [
    "distance = [12,13,14,15]\n",
    "time = [1,2,3,4]\n",
    "speed = distance/time"
   ]
  },
  {
   "cell_type": "code",
   "execution_count": 2,
   "id": "1759c12a",
   "metadata": {},
   "outputs": [
    {
     "data": {
      "text/plain": [
       "[12.0, 6.5, 4.666666666666667, 3.75]"
      ]
     },
     "execution_count": 2,
     "metadata": {},
     "output_type": "execute_result"
    }
   ],
   "source": [
    "list(map(lambda x,y:x/y,distance,time))"
   ]
  },
  {
   "cell_type": "code",
   "execution_count": 3,
   "id": "e9ee298f",
   "metadata": {},
   "outputs": [],
   "source": [
    "import numpy as np"
   ]
  },
  {
   "cell_type": "code",
   "execution_count": 5,
   "id": "fcc6b0da",
   "metadata": {},
   "outputs": [
    {
     "data": {
      "text/plain": [
       "array([12.        ,  6.5       ,  4.66666667,  3.75      ])"
      ]
     },
     "execution_count": 5,
     "metadata": {},
     "output_type": "execute_result"
    }
   ],
   "source": [
    "distance = np.array(distance)\n",
    "time = np.array(time)\n",
    "speed = distance/time\n",
    "speed"
   ]
  },
  {
   "cell_type": "code",
   "execution_count": 8,
   "id": "c47595d4",
   "metadata": {},
   "outputs": [
    {
     "data": {
      "text/plain": [
       "2"
      ]
     },
     "execution_count": 8,
     "metadata": {},
     "output_type": "execute_result"
    }
   ],
   "source": [
    "l = [[1,2,3],[2,3,4],[3,4,5]]\n",
    "arr = np.array(l)\n",
    "arr[0][1]"
   ]
  },
  {
   "cell_type": "code",
   "execution_count": 10,
   "id": "abf85f96",
   "metadata": {},
   "outputs": [
    {
     "data": {
      "text/plain": [
       "3"
      ]
     },
     "execution_count": 10,
     "metadata": {},
     "output_type": "execute_result"
    }
   ],
   "source": [
    "l = [[1,2,3],[2,3,4],[3,4,5]]\n",
    "arr = np.array([l])\n",
    "arr[0][1][1]"
   ]
  },
  {
   "cell_type": "code",
   "execution_count": 11,
   "id": "52adff7a",
   "metadata": {},
   "outputs": [
    {
     "data": {
      "text/plain": [
       "3"
      ]
     },
     "execution_count": 11,
     "metadata": {},
     "output_type": "execute_result"
    }
   ],
   "source": [
    "arr.ndim"
   ]
  },
  {
   "cell_type": "code",
   "execution_count": 12,
   "id": "55fea20a",
   "metadata": {},
   "outputs": [
    {
     "data": {
      "text/plain": [
       "(1, 3, 3)"
      ]
     },
     "execution_count": 12,
     "metadata": {},
     "output_type": "execute_result"
    }
   ],
   "source": [
    "arr.shape"
   ]
  },
  {
   "cell_type": "code",
   "execution_count": 13,
   "id": "e78e51fc",
   "metadata": {},
   "outputs": [
    {
     "data": {
      "text/plain": [
       "9"
      ]
     },
     "execution_count": 13,
     "metadata": {},
     "output_type": "execute_result"
    }
   ],
   "source": [
    "arr.size"
   ]
  },
  {
   "cell_type": "code",
   "execution_count": 14,
   "id": "5fce0a9f",
   "metadata": {},
   "outputs": [
    {
     "data": {
      "text/plain": [
       "dtype('int32')"
      ]
     },
     "execution_count": 14,
     "metadata": {},
     "output_type": "execute_result"
    }
   ],
   "source": [
    "arr.dtype"
   ]
  },
  {
   "cell_type": "code",
   "execution_count": 15,
   "id": "fb40a593",
   "metadata": {},
   "outputs": [
    {
     "data": {
      "text/plain": [
       "3"
      ]
     },
     "execution_count": 15,
     "metadata": {},
     "output_type": "execute_result"
    }
   ],
   "source": [
    "l = [[1,2,3],[2,3,4],[3,4,5]]\n",
    "arr = np.array(l)\n",
    "arr[1][1]"
   ]
  },
  {
   "cell_type": "code",
   "execution_count": 16,
   "id": "414a25bd",
   "metadata": {},
   "outputs": [
    {
     "data": {
      "text/plain": [
       "(3, 3)"
      ]
     },
     "execution_count": 16,
     "metadata": {},
     "output_type": "execute_result"
    }
   ],
   "source": [
    "arr.shape"
   ]
  },
  {
   "cell_type": "code",
   "execution_count": 26,
   "id": "a3c17c04",
   "metadata": {},
   "outputs": [
    {
     "data": {
      "text/plain": [
       "array([[[ 1,  2,  3],\n",
       "        [ 4,  5,  6],\n",
       "        [ 7,  8,  9]],\n",
       "\n",
       "       [[12, 13, 14],\n",
       "        [19, 20, 21],\n",
       "        [16, 17, 18]]])"
      ]
     },
     "execution_count": 26,
     "metadata": {},
     "output_type": "execute_result"
    }
   ],
   "source": [
    "arr1 = np.array([[[1,2,3],[4,5,6],[7,8,9]],[[12,13,14],[19,20,21],[16,17,18]]])\n",
    "arr1"
   ]
  },
  {
   "cell_type": "code",
   "execution_count": 27,
   "id": "ffbd7a61",
   "metadata": {},
   "outputs": [
    {
     "data": {
      "text/plain": [
       "(2, 3, 3)"
      ]
     },
     "execution_count": 27,
     "metadata": {},
     "output_type": "execute_result"
    }
   ],
   "source": [
    "arr1.shape"
   ]
  },
  {
   "cell_type": "code",
   "execution_count": 28,
   "id": "f6bc4e0a",
   "metadata": {},
   "outputs": [
    {
     "data": {
      "text/plain": [
       "dtype('int32')"
      ]
     },
     "execution_count": 28,
     "metadata": {},
     "output_type": "execute_result"
    }
   ],
   "source": [
    "arr1.dtype"
   ]
  },
  {
   "cell_type": "code",
   "execution_count": 29,
   "id": "0311b97e",
   "metadata": {},
   "outputs": [
    {
     "data": {
      "text/plain": [
       "3"
      ]
     },
     "execution_count": 29,
     "metadata": {},
     "output_type": "execute_result"
    }
   ],
   "source": [
    "arr1.ndim"
   ]
  },
  {
   "cell_type": "code",
   "execution_count": 30,
   "id": "901d7fe3",
   "metadata": {},
   "outputs": [
    {
     "data": {
      "text/plain": [
       "18"
      ]
     },
     "execution_count": 30,
     "metadata": {},
     "output_type": "execute_result"
    }
   ],
   "source": [
    "arr1.size"
   ]
  },
  {
   "cell_type": "code",
   "execution_count": 31,
   "id": "8d8a8722",
   "metadata": {},
   "outputs": [
    {
     "data": {
      "text/plain": [
       "numpy.ndarray"
      ]
     },
     "execution_count": 31,
     "metadata": {},
     "output_type": "execute_result"
    }
   ],
   "source": [
    "type(arr1)"
   ]
  },
  {
   "cell_type": "code",
   "execution_count": 32,
   "id": "8586d7ad",
   "metadata": {},
   "outputs": [
    {
     "data": {
      "text/plain": [
       "array([[1, 2, 3],\n",
       "       [2, 3, 4],\n",
       "       [3, 4, 5]])"
      ]
     },
     "execution_count": 32,
     "metadata": {},
     "output_type": "execute_result"
    }
   ],
   "source": [
    "arr"
   ]
  },
  {
   "cell_type": "code",
   "execution_count": 33,
   "id": "3d11382e",
   "metadata": {},
   "outputs": [
    {
     "data": {
      "text/plain": [
       "2"
      ]
     },
     "execution_count": 33,
     "metadata": {},
     "output_type": "execute_result"
    }
   ],
   "source": [
    "arr[0][1]"
   ]
  },
  {
   "cell_type": "code",
   "execution_count": 34,
   "id": "6431da93",
   "metadata": {},
   "outputs": [],
   "source": [
    "arr[0][1] = 12"
   ]
  },
  {
   "cell_type": "code",
   "execution_count": 35,
   "id": "1db1dfae",
   "metadata": {},
   "outputs": [
    {
     "data": {
      "text/plain": [
       "array([[ 1, 12,  3],\n",
       "       [ 2,  3,  4],\n",
       "       [ 3,  4,  5]])"
      ]
     },
     "execution_count": 35,
     "metadata": {},
     "output_type": "execute_result"
    }
   ],
   "source": [
    "arr"
   ]
  },
  {
   "cell_type": "markdown",
   "id": "41849807",
   "metadata": {},
   "source": [
    "Operatin in numpy"
   ]
  },
  {
   "cell_type": "code",
   "execution_count": 36,
   "id": "65fbe6ef",
   "metadata": {},
   "outputs": [
    {
     "data": {
      "text/plain": [
       "array([[ 1, 12,  3],\n",
       "       [ 2,  3,  4],\n",
       "       [ 3,  4,  5]])"
      ]
     },
     "execution_count": 36,
     "metadata": {},
     "output_type": "execute_result"
    }
   ],
   "source": [
    "arr"
   ]
  },
  {
   "cell_type": "code",
   "execution_count": 37,
   "id": "81f4aa18",
   "metadata": {},
   "outputs": [
    {
     "data": {
      "text/plain": [
       "array([[  1, 144,   9],\n",
       "       [  4,   9,  16],\n",
       "       [  9,  16,  25]], dtype=int32)"
      ]
     },
     "execution_count": 37,
     "metadata": {},
     "output_type": "execute_result"
    }
   ],
   "source": [
    "arr**2"
   ]
  },
  {
   "cell_type": "code",
   "execution_count": 38,
   "id": "034d45bc",
   "metadata": {},
   "outputs": [
    {
     "data": {
      "text/plain": [
       "array([[11, 22, 13],\n",
       "       [12, 13, 14],\n",
       "       [13, 14, 15]])"
      ]
     },
     "execution_count": 38,
     "metadata": {},
     "output_type": "execute_result"
    }
   ],
   "source": [
    "arr+10"
   ]
  },
  {
   "cell_type": "code",
   "execution_count": 45,
   "id": "1958d2ae",
   "metadata": {},
   "outputs": [],
   "source": [
    "arr[0][0] = 6.1"
   ]
  },
  {
   "cell_type": "code",
   "execution_count": 46,
   "id": "c07c9859",
   "metadata": {},
   "outputs": [
    {
     "data": {
      "text/plain": [
       "array([[ 6, 12,  3],\n",
       "       [ 2,  3,  4],\n",
       "       [ 3,  4,  5]])"
      ]
     },
     "execution_count": 46,
     "metadata": {},
     "output_type": "execute_result"
    }
   ],
   "source": [
    "arr"
   ]
  },
  {
   "cell_type": "code",
   "execution_count": 49,
   "id": "93100c08",
   "metadata": {},
   "outputs": [],
   "source": [
    "ax = np.array(arr,dtype = float)"
   ]
  },
  {
   "cell_type": "code",
   "execution_count": 50,
   "id": "1fd56121",
   "metadata": {},
   "outputs": [
    {
     "data": {
      "text/plain": [
       "array([[ 6., 12.,  3.],\n",
       "       [ 2.,  3.,  4.],\n",
       "       [ 3.,  4.,  5.]])"
      ]
     },
     "execution_count": 50,
     "metadata": {},
     "output_type": "execute_result"
    }
   ],
   "source": [
    "ax"
   ]
  },
  {
   "cell_type": "code",
   "execution_count": 51,
   "id": "82d3c0bb",
   "metadata": {},
   "outputs": [
    {
     "data": {
      "text/plain": [
       "array([[1., 2., 3.],\n",
       "       [4., 5., 6.],\n",
       "       [8., 9., 7.]])"
      ]
     },
     "execution_count": 51,
     "metadata": {},
     "output_type": "execute_result"
    }
   ],
   "source": [
    "a = np.array([[1,2.,3],[4,5,6],[8,9,7]])\n",
    "a"
   ]
  },
  {
   "cell_type": "code",
   "execution_count": 52,
   "id": "9d1fc3ca",
   "metadata": {},
   "outputs": [],
   "source": [
    "a[0][2] = 5"
   ]
  },
  {
   "cell_type": "code",
   "execution_count": 53,
   "id": "532a6810",
   "metadata": {},
   "outputs": [
    {
     "data": {
      "text/plain": [
       "array([[1., 2., 5.],\n",
       "       [4., 5., 6.],\n",
       "       [8., 9., 7.]])"
      ]
     },
     "execution_count": 53,
     "metadata": {},
     "output_type": "execute_result"
    }
   ],
   "source": [
    "a"
   ]
  },
  {
   "cell_type": "code",
   "execution_count": 58,
   "id": "3c68b281",
   "metadata": {},
   "outputs": [],
   "source": [
    "arr = np.array([[90,85,76,86,57],[78,90,59,88,58]])"
   ]
  },
  {
   "cell_type": "code",
   "execution_count": 59,
   "id": "b9979f09",
   "metadata": {},
   "outputs": [
    {
     "data": {
      "text/plain": [
       "array([[90, 85, 76, 86, 57],\n",
       "       [78, 90, 59, 88, 58]])"
      ]
     },
     "execution_count": 59,
     "metadata": {},
     "output_type": "execute_result"
    }
   ],
   "source": [
    "arr"
   ]
  },
  {
   "cell_type": "code",
   "execution_count": 60,
   "id": "069fe2e5",
   "metadata": {},
   "outputs": [],
   "source": [
    "passing_marks = 60"
   ]
  },
  {
   "cell_type": "code",
   "execution_count": 61,
   "id": "90631899",
   "metadata": {},
   "outputs": [
    {
     "data": {
      "text/plain": [
       "array([[ True,  True,  True,  True, False],\n",
       "       [ True,  True, False,  True, False]])"
      ]
     },
     "execution_count": 61,
     "metadata": {},
     "output_type": "execute_result"
    }
   ],
   "source": [
    "arr>passing_marks"
   ]
  },
  {
   "cell_type": "code",
   "execution_count": 62,
   "id": "1c661037",
   "metadata": {},
   "outputs": [
    {
     "data": {
      "text/plain": [
       "array([90, 85, 76, 86, 78, 90, 88])"
      ]
     },
     "execution_count": 62,
     "metadata": {},
     "output_type": "execute_result"
    }
   ],
   "source": [
    "arr[arr>passing_marks]"
   ]
  },
  {
   "cell_type": "code",
   "execution_count": 63,
   "id": "040475eb",
   "metadata": {},
   "outputs": [
    {
     "data": {
      "text/plain": [
       "76.7"
      ]
     },
     "execution_count": 63,
     "metadata": {},
     "output_type": "execute_result"
    }
   ],
   "source": [
    "arr.mean()"
   ]
  },
  {
   "cell_type": "code",
   "execution_count": 64,
   "id": "59eb3bba",
   "metadata": {},
   "outputs": [
    {
     "data": {
      "text/plain": [
       "767"
      ]
     },
     "execution_count": 64,
     "metadata": {},
     "output_type": "execute_result"
    }
   ],
   "source": [
    "arr.sum()"
   ]
  },
  {
   "cell_type": "code",
   "execution_count": 65,
   "id": "0ec80316",
   "metadata": {},
   "outputs": [
    {
     "data": {
      "text/plain": [
       "81.5"
      ]
     },
     "execution_count": 65,
     "metadata": {},
     "output_type": "execute_result"
    }
   ],
   "source": [
    "np.median(arr)"
   ]
  },
  {
   "cell_type": "code",
   "execution_count": 67,
   "id": "6837b539",
   "metadata": {},
   "outputs": [
    {
     "data": {
      "text/plain": [
       "78.8"
      ]
     },
     "execution_count": 67,
     "metadata": {},
     "output_type": "execute_result"
    }
   ],
   "source": [
    "arr[0].mean()"
   ]
  },
  {
   "cell_type": "code",
   "execution_count": 83,
   "id": "73630068",
   "metadata": {},
   "outputs": [
    {
     "data": {
      "text/plain": [
       "array([['Delhi', 'Mumbai', 'Pune', 'Indore', 'Chennai'],\n",
       "       ['Delhi', 'maha', 'maha', 'mp', 'TN']], dtype='<U7')"
      ]
     },
     "execution_count": 83,
     "metadata": {},
     "output_type": "execute_result"
    }
   ],
   "source": [
    "s = np.array([[\"Delhi\",\"Mumbai\",\"Pune\",\"Indore\",\"Chennai\"],[\"Delhi\",\"maha\",\"maha\",\"mp\",\"TN\"]])\n",
    "s"
   ]
  },
  {
   "cell_type": "code",
   "execution_count": 87,
   "id": "a0a3e385",
   "metadata": {},
   "outputs": [
    {
     "name": "stdout",
     "output_type": "stream",
     "text": [
      "Mumbai\n",
      "Indore\n",
      "Chennai\n"
     ]
    }
   ],
   "source": [
    "for i in s[0]:\n",
    "    if len(i)>5:\n",
    "        print(i)\n",
    "    \n",
    "    "
   ]
  },
  {
   "cell_type": "code",
   "execution_count": 88,
   "id": "d576c856",
   "metadata": {},
   "outputs": [
    {
     "data": {
      "text/plain": [
       "array([['Delhi', 'Mumbai', 'Pune', 'Indore', 'Chennai'],\n",
       "       ['Delhi', 'maha', 'maha', 'mp', 'TN']], dtype='<U7')"
      ]
     },
     "execution_count": 88,
     "metadata": {},
     "output_type": "execute_result"
    }
   ],
   "source": [
    "s"
   ]
  },
  {
   "cell_type": "code",
   "execution_count": 89,
   "id": "9874aa71",
   "metadata": {},
   "outputs": [
    {
     "data": {
      "text/plain": [
       "array([['Mumbai', 'Pune'],\n",
       "       ['maha', 'maha']], dtype='<U7')"
      ]
     },
     "execution_count": 89,
     "metadata": {},
     "output_type": "execute_result"
    }
   ],
   "source": [
    "s[0:2,1:3]"
   ]
  },
  {
   "cell_type": "code",
   "execution_count": 91,
   "id": "8718bb6d",
   "metadata": {},
   "outputs": [
    {
     "data": {
      "text/plain": [
       "array(['Mumbai', 'Pune'], dtype='<U7')"
      ]
     },
     "execution_count": 91,
     "metadata": {},
     "output_type": "execute_result"
    }
   ],
   "source": [
    "s[0,1:3]"
   ]
  },
  {
   "cell_type": "code",
   "execution_count": 92,
   "id": "43bb8068",
   "metadata": {},
   "outputs": [
    {
     "data": {
      "text/plain": [
       "array([['Mumbai', 'Pune', 'Indore'],\n",
       "       ['maha', 'maha', 'mp']], dtype='<U7')"
      ]
     },
     "execution_count": 92,
     "metadata": {},
     "output_type": "execute_result"
    }
   ],
   "source": [
    "s[:,1:4]"
   ]
  },
  {
   "cell_type": "code",
   "execution_count": 93,
   "id": "d0285354",
   "metadata": {},
   "outputs": [
    {
     "data": {
      "text/plain": [
       "array([[[123, 554, 339],\n",
       "        [890, 780, 670]]])"
      ]
     },
     "execution_count": 93,
     "metadata": {},
     "output_type": "execute_result"
    }
   ],
   "source": [
    "a = np.array([[[123,554,339],[890,780,670]]])\n",
    "a"
   ]
  },
  {
   "cell_type": "code",
   "execution_count": 99,
   "id": "0e637385",
   "metadata": {},
   "outputs": [
    {
     "data": {
      "text/plain": [
       "array([339, 670])"
      ]
     },
     "execution_count": 99,
     "metadata": {},
     "output_type": "execute_result"
    }
   ],
   "source": [
    "a[0][:,2]"
   ]
  },
  {
   "cell_type": "code",
   "execution_count": 100,
   "id": "20c72b69",
   "metadata": {},
   "outputs": [
    {
     "data": {
      "text/plain": [
       "array([[[123, 554, 339],\n",
       "        [890, 780, 670]]])"
      ]
     },
     "execution_count": 100,
     "metadata": {},
     "output_type": "execute_result"
    }
   ],
   "source": [
    "a"
   ]
  },
  {
   "cell_type": "code",
   "execution_count": 101,
   "id": "9b9184c2",
   "metadata": {},
   "outputs": [],
   "source": [
    "b = a"
   ]
  },
  {
   "cell_type": "code",
   "execution_count": 102,
   "id": "9f59cfcf",
   "metadata": {},
   "outputs": [],
   "source": [
    "b[0][0][0] = 120"
   ]
  },
  {
   "cell_type": "code",
   "execution_count": 103,
   "id": "7c2d2283",
   "metadata": {},
   "outputs": [
    {
     "data": {
      "text/plain": [
       "array([[[120, 554, 339],\n",
       "        [890, 780, 670]]])"
      ]
     },
     "execution_count": 103,
     "metadata": {},
     "output_type": "execute_result"
    }
   ],
   "source": [
    "b"
   ]
  },
  {
   "cell_type": "code",
   "execution_count": 104,
   "id": "cc36c1b2",
   "metadata": {},
   "outputs": [
    {
     "data": {
      "text/plain": [
       "array([[[120, 554, 339],\n",
       "        [890, 780, 670]]])"
      ]
     },
     "execution_count": 104,
     "metadata": {},
     "output_type": "execute_result"
    }
   ],
   "source": [
    "a"
   ]
  },
  {
   "cell_type": "code",
   "execution_count": 105,
   "id": "f78cb2d6",
   "metadata": {},
   "outputs": [],
   "source": [
    "c =a.view()"
   ]
  },
  {
   "cell_type": "code",
   "execution_count": 106,
   "id": "998e6503",
   "metadata": {},
   "outputs": [
    {
     "data": {
      "text/plain": [
       "array([[[120, 554, 339],\n",
       "        [890, 780, 670]]])"
      ]
     },
     "execution_count": 106,
     "metadata": {},
     "output_type": "execute_result"
    }
   ],
   "source": [
    "c"
   ]
  },
  {
   "cell_type": "code",
   "execution_count": 107,
   "id": "36748fe2",
   "metadata": {},
   "outputs": [
    {
     "data": {
      "text/plain": [
       "array([[[ 80, 554, 339],\n",
       "        [890, 780, 670]]])"
      ]
     },
     "execution_count": 107,
     "metadata": {},
     "output_type": "execute_result"
    }
   ],
   "source": [
    "c[0][0][0] = 80\n",
    "c"
   ]
  },
  {
   "cell_type": "code",
   "execution_count": 108,
   "id": "19fed0a1",
   "metadata": {},
   "outputs": [
    {
     "data": {
      "text/plain": [
       "array([[[ 80, 554, 339],\n",
       "        [890, 780, 670]]])"
      ]
     },
     "execution_count": 108,
     "metadata": {},
     "output_type": "execute_result"
    }
   ],
   "source": [
    "a"
   ]
  },
  {
   "cell_type": "code",
   "execution_count": 109,
   "id": "806c63ef",
   "metadata": {},
   "outputs": [
    {
     "data": {
      "text/plain": [
       "array([[[ 80, 554, 339],\n",
       "        [890, 780, 670]]])"
      ]
     },
     "execution_count": 109,
     "metadata": {},
     "output_type": "execute_result"
    }
   ],
   "source": [
    "d = a.copy()\n",
    "d"
   ]
  },
  {
   "cell_type": "code",
   "execution_count": 111,
   "id": "ef6dfe8f",
   "metadata": {},
   "outputs": [],
   "source": [
    "d[0][0][0] = 40"
   ]
  },
  {
   "cell_type": "code",
   "execution_count": 112,
   "id": "66a61ac4",
   "metadata": {},
   "outputs": [
    {
     "data": {
      "text/plain": [
       "array([[[ 40, 554, 339],\n",
       "        [890, 780, 670]]])"
      ]
     },
     "execution_count": 112,
     "metadata": {},
     "output_type": "execute_result"
    }
   ],
   "source": [
    "d"
   ]
  },
  {
   "cell_type": "code",
   "execution_count": 113,
   "id": "b3bbc6c0",
   "metadata": {},
   "outputs": [
    {
     "data": {
      "text/plain": [
       "array([[[ 80, 554, 339],\n",
       "        [890, 780, 670]]])"
      ]
     },
     "execution_count": 113,
     "metadata": {},
     "output_type": "execute_result"
    }
   ],
   "source": [
    "a"
   ]
  },
  {
   "cell_type": "code",
   "execution_count": 114,
   "id": "208192e8",
   "metadata": {},
   "outputs": [
    {
     "data": {
      "text/plain": [
       "array([1, 2, 3])"
      ]
     },
     "execution_count": 114,
     "metadata": {},
     "output_type": "execute_result"
    }
   ],
   "source": [
    "a = np.asarray([1,2,3])\n",
    "a"
   ]
  },
  {
   "cell_type": "code",
   "execution_count": null,
   "id": "79032db6",
   "metadata": {},
   "outputs": [],
   "source": []
  }
 ],
 "metadata": {
  "kernelspec": {
   "display_name": "Python 3",
   "language": "python",
   "name": "python3"
  },
  "language_info": {
   "codemirror_mode": {
    "name": "ipython",
    "version": 3
   },
   "file_extension": ".py",
   "mimetype": "text/x-python",
   "name": "python",
   "nbconvert_exporter": "python",
   "pygments_lexer": "ipython3",
   "version": "3.8.8"
  }
 },
 "nbformat": 4,
 "nbformat_minor": 5
}
