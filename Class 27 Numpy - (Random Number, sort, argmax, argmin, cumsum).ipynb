{
 "cells": [
  {
   "cell_type": "code",
   "execution_count": 1,
   "id": "29436026",
   "metadata": {},
   "outputs": [],
   "source": [
    "import numpy as np"
   ]
  },
  {
   "cell_type": "markdown",
   "id": "359fb875",
   "metadata": {},
   "source": [
    "# Random number generation using numpy"
   ]
  },
  {
   "cell_type": "code",
   "execution_count": 2,
   "id": "49ec1fdd",
   "metadata": {},
   "outputs": [],
   "source": [
    "from numpy import random"
   ]
  },
  {
   "cell_type": "code",
   "execution_count": 3,
   "id": "31aa2bc2",
   "metadata": {},
   "outputs": [
    {
     "data": {
      "text/plain": [
       "array([[0.92806933, 0.64602154, 0.06228448],\n",
       "       [0.63839272, 0.96591924, 0.68108651],\n",
       "       [0.10624791, 0.67064568, 0.0313042 ]])"
      ]
     },
     "execution_count": 3,
     "metadata": {},
     "output_type": "execute_result"
    }
   ],
   "source": [
    "a = np.random.rand(3,3)\n",
    "a"
   ]
  },
  {
   "cell_type": "code",
   "execution_count": 4,
   "id": "0aa81c26",
   "metadata": {},
   "outputs": [],
   "source": [
    "b = np.random.randn(3,3) #random number generation in standard normal distribution"
   ]
  },
  {
   "cell_type": "code",
   "execution_count": 5,
   "id": "a50d8834",
   "metadata": {},
   "outputs": [
    {
     "data": {
      "text/plain": [
       "array([[-1.22935687,  0.40294322,  1.08103384],\n",
       "       [ 1.05063258, -0.43781815,  0.56768299],\n",
       "       [-1.99499597,  0.68599622, -0.17774568]])"
      ]
     },
     "execution_count": 5,
     "metadata": {},
     "output_type": "execute_result"
    }
   ],
   "source": [
    "b"
   ]
  },
  {
   "cell_type": "code",
   "execution_count": 6,
   "id": "3206dc59",
   "metadata": {},
   "outputs": [
    {
     "data": {
      "text/plain": [
       "-0.0057364229417936246"
      ]
     },
     "execution_count": 6,
     "metadata": {},
     "output_type": "execute_result"
    }
   ],
   "source": [
    "b.mean()"
   ]
  },
  {
   "cell_type": "code",
   "execution_count": 7,
   "id": "c5ee6590",
   "metadata": {},
   "outputs": [
    {
     "data": {
      "text/plain": [
       "0.9967720312431388"
      ]
     },
     "execution_count": 7,
     "metadata": {},
     "output_type": "execute_result"
    }
   ],
   "source": [
    "b.std()"
   ]
  },
  {
   "cell_type": "code",
   "execution_count": 8,
   "id": "6215f130",
   "metadata": {},
   "outputs": [],
   "source": [
    "c = np.random.randint(1,10,20)"
   ]
  },
  {
   "cell_type": "code",
   "execution_count": 9,
   "id": "f4e77c01",
   "metadata": {},
   "outputs": [
    {
     "data": {
      "text/plain": [
       "array([3, 1, 8, 1, 3, 9, 8, 7, 6, 3, 7, 7, 3, 1, 8, 8, 6, 8, 4, 6])"
      ]
     },
     "execution_count": 9,
     "metadata": {},
     "output_type": "execute_result"
    }
   ],
   "source": [
    "c"
   ]
  },
  {
   "cell_type": "code",
   "execution_count": 10,
   "id": "a7d8b2c7",
   "metadata": {},
   "outputs": [],
   "source": [
    "c = np.random.randint(1,10,(3,3))"
   ]
  },
  {
   "cell_type": "code",
   "execution_count": 11,
   "id": "f7a4407d",
   "metadata": {},
   "outputs": [
    {
     "data": {
      "text/plain": [
       "array([[3, 8, 6],\n",
       "       [4, 5, 2],\n",
       "       [2, 6, 6]])"
      ]
     },
     "execution_count": 11,
     "metadata": {},
     "output_type": "execute_result"
    }
   ],
   "source": [
    "c"
   ]
  },
  {
   "cell_type": "code",
   "execution_count": 12,
   "id": "f6113d10",
   "metadata": {},
   "outputs": [
    {
     "data": {
      "text/plain": [
       "array([[2, 5, 2],\n",
       "       [3, 6, 6],\n",
       "       [4, 8, 6]])"
      ]
     },
     "execution_count": 12,
     "metadata": {},
     "output_type": "execute_result"
    }
   ],
   "source": [
    "c.sort(axis = 0)\n",
    "c"
   ]
  },
  {
   "cell_type": "code",
   "execution_count": 13,
   "id": "e691f645",
   "metadata": {},
   "outputs": [
    {
     "data": {
      "text/plain": [
       "array([[2, 2, 5],\n",
       "       [3, 6, 6],\n",
       "       [4, 6, 8]])"
      ]
     },
     "execution_count": 13,
     "metadata": {},
     "output_type": "execute_result"
    }
   ],
   "source": [
    "c.sort(axis = 1)\n",
    "c"
   ]
  },
  {
   "cell_type": "markdown",
   "id": "dc28e856",
   "metadata": {},
   "source": [
    "kind = {\"quiksort\", \"mergesort\", \"stable\", \"heapsort\"}\n",
    "\n",
    "quicksort : less time and less space - time and space \n",
    "compexity is less for quick sort"
   ]
  },
  {
   "cell_type": "code",
   "execution_count": 14,
   "id": "6335ec78",
   "metadata": {},
   "outputs": [
    {
     "data": {
      "text/plain": [
       "8"
      ]
     },
     "execution_count": 14,
     "metadata": {},
     "output_type": "execute_result"
    }
   ],
   "source": [
    "c.max()"
   ]
  },
  {
   "cell_type": "code",
   "execution_count": 15,
   "id": "8fafcec3",
   "metadata": {},
   "outputs": [
    {
     "data": {
      "text/plain": [
       "2"
      ]
     },
     "execution_count": 15,
     "metadata": {},
     "output_type": "execute_result"
    }
   ],
   "source": [
    "c.min()"
   ]
  },
  {
   "cell_type": "code",
   "execution_count": 16,
   "id": "9e973c22",
   "metadata": {},
   "outputs": [
    {
     "data": {
      "text/plain": [
       "8"
      ]
     },
     "execution_count": 16,
     "metadata": {},
     "output_type": "execute_result"
    }
   ],
   "source": [
    "np.argmax(c) # index value of max number"
   ]
  },
  {
   "cell_type": "code",
   "execution_count": 17,
   "id": "d64db68f",
   "metadata": {},
   "outputs": [
    {
     "data": {
      "text/plain": [
       "0"
      ]
     },
     "execution_count": 17,
     "metadata": {},
     "output_type": "execute_result"
    }
   ],
   "source": [
    "np.argmin(c) # index value of min number"
   ]
  },
  {
   "cell_type": "code",
   "execution_count": 19,
   "id": "69631012",
   "metadata": {},
   "outputs": [],
   "source": [
    "d = np.random.randint(100,400,(3,3))"
   ]
  },
  {
   "cell_type": "code",
   "execution_count": 20,
   "id": "8dc260b7",
   "metadata": {},
   "outputs": [
    {
     "data": {
      "text/plain": [
       "array([[205, 209, 323],\n",
       "       [127, 116, 367],\n",
       "       [312, 150, 269]])"
      ]
     },
     "execution_count": 20,
     "metadata": {},
     "output_type": "execute_result"
    }
   ],
   "source": [
    "d"
   ]
  },
  {
   "cell_type": "code",
   "execution_count": 21,
   "id": "dee9f049",
   "metadata": {},
   "outputs": [
    {
     "data": {
      "text/plain": [
       "array([2, 0, 1], dtype=int64)"
      ]
     },
     "execution_count": 21,
     "metadata": {},
     "output_type": "execute_result"
    }
   ],
   "source": [
    "d.argmax(axis = 0) # all index value of max number in column)"
   ]
  },
  {
   "cell_type": "code",
   "execution_count": 22,
   "id": "c7f731af",
   "metadata": {},
   "outputs": [
    {
     "data": {
      "text/plain": [
       "array([1, 1, 2], dtype=int64)"
      ]
     },
     "execution_count": 22,
     "metadata": {},
     "output_type": "execute_result"
    }
   ],
   "source": [
    "d.argmin(axis = 0)  # all index value of min number in column)"
   ]
  },
  {
   "cell_type": "code",
   "execution_count": 23,
   "id": "d88a56ce",
   "metadata": {},
   "outputs": [
    {
     "data": {
      "text/plain": [
       "array([2, 2, 0], dtype=int64)"
      ]
     },
     "execution_count": 23,
     "metadata": {},
     "output_type": "execute_result"
    }
   ],
   "source": [
    "d.argmax(axis = 1) # all index value of max number in raw)"
   ]
  },
  {
   "cell_type": "code",
   "execution_count": 24,
   "id": "289aeeac",
   "metadata": {},
   "outputs": [
    {
     "data": {
      "text/plain": [
       "array([0, 1, 1], dtype=int64)"
      ]
     },
     "execution_count": 24,
     "metadata": {},
     "output_type": "execute_result"
    }
   ],
   "source": [
    "d.argmin(axis = 1)  # all index value of min number in raw)"
   ]
  },
  {
   "cell_type": "code",
   "execution_count": 25,
   "id": "e4ea28c0",
   "metadata": {},
   "outputs": [
    {
     "data": {
      "text/plain": [
       "array([ 1,  3,  6, 10, 15, 21, 28, 36, 45], dtype=int32)"
      ]
     },
     "execution_count": 25,
     "metadata": {},
     "output_type": "execute_result"
    }
   ],
   "source": [
    "np.cumsum([1,2,3,4,5,6,7,8,9])"
   ]
  },
  {
   "cell_type": "code",
   "execution_count": 26,
   "id": "ea43dc7b",
   "metadata": {},
   "outputs": [
    {
     "data": {
      "text/plain": [
       "array([ 1,  3,  6, 11, 19, 28], dtype=int32)"
      ]
     },
     "execution_count": 26,
     "metadata": {},
     "output_type": "execute_result"
    }
   ],
   "source": [
    "np.cumsum([[1,2,3],[5,8,9]])"
   ]
  },
  {
   "cell_type": "code",
   "execution_count": null,
   "id": "3598325c",
   "metadata": {},
   "outputs": [],
   "source": []
  }
 ],
 "metadata": {
  "kernelspec": {
   "display_name": "Python 3",
   "language": "python",
   "name": "python3"
  },
  "language_info": {
   "codemirror_mode": {
    "name": "ipython",
    "version": 3
   },
   "file_extension": ".py",
   "mimetype": "text/x-python",
   "name": "python",
   "nbconvert_exporter": "python",
   "pygments_lexer": "ipython3",
   "version": "3.8.8"
  }
 },
 "nbformat": 4,
 "nbformat_minor": 5
}
